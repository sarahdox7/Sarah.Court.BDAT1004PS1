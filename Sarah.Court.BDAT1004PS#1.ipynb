{
 "cells": [
  {
   "cell_type": "markdown",
   "metadata": {},
   "source": [
    "### Question 1\n",
    "\n",
    "What data type is each of the following? \n",
    "(I have input the answers into seperate cells)\n"
   ]
  },
  {
   "cell_type": "code",
   "execution_count": 6,
   "metadata": {},
   "outputs": [
    {
     "data": {
      "text/plain": [
       "int"
      ]
     },
     "execution_count": 6,
     "metadata": {},
     "output_type": "execute_result"
    }
   ],
   "source": [
    "#using type command to find out type of data for various values/characters\n",
    "\n",
    "type(5)"
   ]
  },
  {
   "cell_type": "code",
   "execution_count": 7,
   "metadata": {
    "scrolled": true
   },
   "outputs": [
    {
     "data": {
      "text/plain": [
       "float"
      ]
     },
     "execution_count": 7,
     "metadata": {},
     "output_type": "execute_result"
    }
   ],
   "source": [
    "type(5.0)"
   ]
  },
  {
   "cell_type": "code",
   "execution_count": 8,
   "metadata": {},
   "outputs": [
    {
     "data": {
      "text/plain": [
       "bool"
      ]
     },
     "execution_count": 8,
     "metadata": {},
     "output_type": "execute_result"
    }
   ],
   "source": [
    "type(5>1)"
   ]
  },
  {
   "cell_type": "code",
   "execution_count": 9,
   "metadata": {},
   "outputs": [
    {
     "data": {
      "text/plain": [
       "str"
      ]
     },
     "execution_count": 9,
     "metadata": {},
     "output_type": "execute_result"
    }
   ],
   "source": [
    "type('5')"
   ]
  },
  {
   "cell_type": "code",
   "execution_count": 17,
   "metadata": {},
   "outputs": [
    {
     "data": {
      "text/plain": [
       "int"
      ]
     },
     "execution_count": 17,
     "metadata": {},
     "output_type": "execute_result"
    }
   ],
   "source": [
    "type(5 * 2)"
   ]
  },
  {
   "cell_type": "code",
   "execution_count": 18,
   "metadata": {},
   "outputs": [
    {
     "data": {
      "text/plain": [
       "str"
      ]
     },
     "execution_count": 18,
     "metadata": {},
     "output_type": "execute_result"
    }
   ],
   "source": [
    "type('5' * 2)"
   ]
  },
  {
   "cell_type": "code",
   "execution_count": 19,
   "metadata": {},
   "outputs": [
    {
     "data": {
      "text/plain": [
       "str"
      ]
     },
     "execution_count": 19,
     "metadata": {},
     "output_type": "execute_result"
    }
   ],
   "source": [
    "type('5' + '2')"
   ]
  },
  {
   "cell_type": "code",
   "execution_count": 22,
   "metadata": {},
   "outputs": [
    {
     "data": {
      "text/plain": [
       "float"
      ]
     },
     "execution_count": 22,
     "metadata": {},
     "output_type": "execute_result"
    }
   ],
   "source": [
    "type(5 / 2)"
   ]
  },
  {
   "cell_type": "code",
   "execution_count": 23,
   "metadata": {},
   "outputs": [
    {
     "data": {
      "text/plain": [
       "int"
      ]
     },
     "execution_count": 23,
     "metadata": {},
     "output_type": "execute_result"
    }
   ],
   "source": [
    "type(5 // 2)"
   ]
  },
  {
   "cell_type": "code",
   "execution_count": 24,
   "metadata": {},
   "outputs": [
    {
     "data": {
      "text/plain": [
       "list"
      ]
     },
     "execution_count": 24,
     "metadata": {},
     "output_type": "execute_result"
    }
   ],
   "source": [
    "type([5, 2, 1])"
   ]
  },
  {
   "cell_type": "code",
   "execution_count": 25,
   "metadata": {},
   "outputs": [
    {
     "data": {
      "text/plain": [
       "bool"
      ]
     },
     "execution_count": 25,
     "metadata": {},
     "output_type": "execute_result"
    }
   ],
   "source": [
    "type(5 in [1, 4, 6])"
   ]
  },
  {
   "cell_type": "code",
   "execution_count": 37,
   "metadata": {},
   "outputs": [
    {
     "data": {
      "text/plain": [
       "float"
      ]
     },
     "execution_count": 37,
     "metadata": {},
     "output_type": "execute_result"
    }
   ],
   "source": [
    "import math #standard library module math\n",
    "\n",
    "type(math.pi)"
   ]
  },
  {
   "cell_type": "markdown",
   "metadata": {},
   "source": [
    "### Question 2a\n",
    "\n",
    "How many letters are there in \"Supercalifragilisticexpialidocious\"?\n",
    "\n",
    "Ans: \n",
    "Supercalifragilisticexpialidocious is made up of 34 letters total\n"
   ]
  },
  {
   "cell_type": "code",
   "execution_count": 428,
   "metadata": {
    "scrolled": true
   },
   "outputs": [
    {
     "name": "stdout",
     "output_type": "stream",
     "text": [
      "34\n"
     ]
    }
   ],
   "source": [
    "#count letters in a word\n",
    "\n",
    "def word (Supercalifragilisticexpialidocious):\n",
    "    res = len(word)\n",
    "print(res)\n"
   ]
  },
  {
   "cell_type": "markdown",
   "metadata": {},
   "source": [
    "### Question 2b\n",
    "\n",
    "Does \"Supercalifragilisticexpialidocious\" contain 'ice' as a substring?"
   ]
  },
  {
   "cell_type": "code",
   "execution_count": 99,
   "metadata": {},
   "outputs": [
    {
     "name": "stdout",
     "output_type": "stream",
     "text": [
      "yes, substring found\n"
     ]
    }
   ],
   "source": [
    "#define terms\n",
    "word = 'supercalifragilisticexpialidocious'\n",
    "substring = 'ice'\n",
    "\n",
    "\n",
    "#use of one-way if statement to find substring within input word\n",
    "#display confirmation if substring found\n",
    "\n",
    "if substring in word:\n",
    "    print (\"yes, substring found\")\n"
   ]
  },
  {
   "cell_type": "markdown",
   "metadata": {},
   "source": [
    "### Question 2c\n",
    "\n",
    "Which of the following words is the longest?:\n",
    "Supercalifragilisticexpialidocious, Honorificabilitudinitatibus, or Bababadalgharaghtakamminarronnkonn?"
   ]
  },
  {
   "cell_type": "code",
   "execution_count": 571,
   "metadata": {},
   "outputs": [
    {
     "name": "stdout",
     "output_type": "stream",
     "text": [
      "the longest words are equal in length:  supercalifragilisticexpialidocious and bababadalgharaghtakamminarronnkonn\n"
     ]
    }
   ],
   "source": [
    "#create list of words\n",
    "wordList = [\"supercalifragilisticexpialidocious\", \"honorificabilitudinitatibus\", \"bababadalgharaghtakamminarronnkonn\"]\n",
    "\n",
    "#create list of lengths of words by number of letters\n",
    "length = [len(wordList[0]), len(wordList[1]), len(wordList[2])]\n",
    "\n",
    "\n",
    "\n",
    "if length[0] == length[2] in length:\n",
    "    res = (wordList[0], wordList[2])\n",
    "print(\"the longest words are equal in length: \", wordList[0], \"and\", wordList[2])\n",
    "\n"
   ]
  },
  {
   "cell_type": "markdown",
   "metadata": {},
   "source": [
    "### Question 2d\n",
    "\n",
    "Which composer comes first in the dictionary? Which one comes last?:\n",
    "\n"
   ]
  },
  {
   "cell_type": "code",
   "execution_count": 3,
   "metadata": {},
   "outputs": [
    {
     "name": "stdout",
     "output_type": "stream",
     "text": [
      "Bartok\n",
      "Buxtehude\n"
     ]
    }
   ],
   "source": [
    "words = ['Berlioz', 'Borodin', 'Brian', 'Bartok', 'Bellini', 'Buxtehude', 'Bernstein']\n",
    "words.sort()\n",
    "print(words[0])\n",
    "print(words[-1])"
   ]
  },
  {
   "cell_type": "markdown",
   "metadata": {},
   "source": [
    "### Question 3a\n",
    "\n",
    "Write a function inside() that returns true or false, pending on whether point(x,y) lies in the rectangle with lower left corner (x1,y1) and upper right corner (x2,y2)."
   ]
  },
  {
   "cell_type": "code",
   "execution_count": 439,
   "metadata": {},
   "outputs": [],
   "source": [
    "def inside(x,y,x1,y1,x2,y2):\n",
    "\n",
    "    res = ''\n",
    "    for int in (x,y,x1,y1,x2,y2):\n",
    "        qx = ((x-x1)/(x2-x1))\n",
    "        qy = ((y-y1)/(y2-y1))\n",
    "\n",
    "        if  (x1 < x < x2) and (y1 < y < y2):\n",
    "            while (qx==qy):\n",
    "                res = True #if both are true\n",
    "            return True\n",
    "    \n",
    "        else:\n",
    "            res = False #if one is false\n",
    "        return res"
   ]
  },
  {
   "cell_type": "code",
   "execution_count": 440,
   "metadata": {},
   "outputs": [
    {
     "data": {
      "text/plain": [
       "True"
      ]
     },
     "execution_count": 440,
     "metadata": {},
     "output_type": "execute_result"
    }
   ],
   "source": [
    "inside(1,1,0,0,2,3)"
   ]
  },
  {
   "cell_type": "code",
   "execution_count": 441,
   "metadata": {},
   "outputs": [
    {
     "data": {
      "text/plain": [
       "False"
      ]
     },
     "execution_count": 441,
     "metadata": {},
     "output_type": "execute_result"
    }
   ],
   "source": [
    "inside(-1,-1,0,0,2,3)\n"
   ]
  },
  {
   "cell_type": "markdown",
   "metadata": {},
   "source": [
    "### Question 3b\n",
    "\n",
    "Use function 'inside(x,y,x1,y1,x2,y2)' for the following rectangles:"
   ]
  },
  {
   "cell_type": "code",
   "execution_count": 442,
   "metadata": {},
   "outputs": [
    {
     "data": {
      "text/plain": [
       "False"
      ]
     },
     "execution_count": 442,
     "metadata": {},
     "output_type": "execute_result"
    }
   ],
   "source": [
    "inside(1,1,0.3,0.5,1.1,0.7)\n"
   ]
  },
  {
   "cell_type": "code",
   "execution_count": 443,
   "metadata": {},
   "outputs": [
    {
     "data": {
      "text/plain": [
       "True"
      ]
     },
     "execution_count": 443,
     "metadata": {},
     "output_type": "execute_result"
    }
   ],
   "source": [
    "inside(1,1,0.5,0.2,1.1,2)"
   ]
  },
  {
   "cell_type": "markdown",
   "metadata": {},
   "source": [
    "### Question 4\n",
    "\n",
    "Write a function \"pig()\" that takes a word (i.e., string) as input and return its piglatin form."
   ]
  },
  {
   "cell_type": "code",
   "execution_count": 87,
   "metadata": {},
   "outputs": [],
   "source": [
    "vowels = ['a', 'e', 'i', 'o', 'u'] #create list\n",
    "\n",
    "\n",
    "#translates a word into pig latin and returns the result\n",
    "\n",
    "    \n",
    "def pig(word):\n",
    "    \n",
    "    if word[0] in vowels:\n",
    "        res = ((word) + 'way')\n",
    "\n",
    "    else:\n",
    "        res = (word[1:] + word[0] + 'ay')\n",
    "    \n",
    "    return res"
   ]
  },
  {
   "cell_type": "code",
   "execution_count": 88,
   "metadata": {},
   "outputs": [
    {
     "data": {
      "text/plain": [
       "'appyhay'"
      ]
     },
     "execution_count": 88,
     "metadata": {},
     "output_type": "execute_result"
    }
   ],
   "source": [
    "pig('happy')\n"
   ]
  },
  {
   "cell_type": "code",
   "execution_count": 89,
   "metadata": {},
   "outputs": [
    {
     "data": {
      "text/plain": [
       "'enterway'"
      ]
     },
     "execution_count": 89,
     "metadata": {},
     "output_type": "execute_result"
    }
   ],
   "source": [
    "pig('enter')\n"
   ]
  },
  {
   "cell_type": "markdown",
   "metadata": {},
   "source": [
    "### Question 5\n",
    "\n",
    "File bloodtype.txt records bloodtypes of patients (A, B, AB, O or OO) at a clinic. Write funtion bldcount() that reads the file with name 'name' and reports (ie., prints) how many patients there are in each bloodtype."
   ]
  },
  {
   "cell_type": "code",
   "execution_count": 166,
   "metadata": {},
   "outputs": [],
   "source": [
    "#opens and reads file bloodtype1.txt\n",
    "file = open('bloodtype1.txt','r')\n",
    "data = file.read()\n",
    "file.close()\n",
    "\n",
    "\n",
    "#define bldcount\n",
    "\n",
    "def bldcount (type):\n",
    "    'return the list of records of patient bloodtypes'\n",
    "    \n",
    "    #splits records into a list of words\n",
    "    bldtype = data.split()\n",
    "\n",
    "        \n",
    "    #dictionary of counters\n",
    "    counters ={}\n",
    "    \n",
    "    for type in bldtype:\n",
    "        \n",
    "        if type in counters: # add to counter\n",
    "            counters[type] += 1\n",
    "            \n",
    "        else:\n",
    "            counters[type] = 1\n",
    "        \n",
    "    \n",
    "    for type in counters:    # print word counts\n",
    "        \n",
    "        if counters[type] == 1:\n",
    "            print('There are {} patients of blood type {:8}'.format(counters[type], type))\n",
    "        \n",
    "        elif type not in counters:\n",
    "            print('There are {} patients of blood type {:8}'.format(no, type))\n",
    "            \n",
    "        else:\n",
    "            print('There are {} patients of blood type {:8}'.format(counters[type], type))"
   ]
  },
  {
   "cell_type": "code",
   "execution_count": 167,
   "metadata": {},
   "outputs": [
    {
     "name": "stdout",
     "output_type": "stream",
     "text": [
      "['AB', 'AB', 'B', 'O', 'A', 'A', 'AB', 'O', 'AB', 'A', 'O', 'O', 'A', 'A', 'A', 'O', 'O', 'O', 'AB', 'O', 'A', 'A', 'A', 'A', 'A', 'AB', 'AB', 'A', 'AB', 'O', 'AB', 'O', 'A', 'O', 'O', 'O', 'AB', 'O', 'AB', 'AB', 'AB', 'A', 'A', 'O']\n"
     ]
    }
   ],
   "source": [
    "print(bldtype)"
   ]
  },
  {
   "cell_type": "code",
   "execution_count": 168,
   "metadata": {
    "scrolled": true
   },
   "outputs": [
    {
     "name": "stdout",
     "output_type": "stream",
     "text": [
      "There are 13 patients of blood type AB      \n",
      "There are 1 patients of blood type B       \n",
      "There are 15 patients of blood type O       \n",
      "There are 15 patients of blood type A       \n"
     ]
    }
   ],
   "source": [
    "bldcount(bldtype)"
   ]
  },
  {
   "cell_type": "markdown",
   "metadata": {},
   "source": [
    "### Question 6\n",
    "\n",
    "Write function 'curconv() that takes input of a currency (represented using a string) and amount & converts then returns the US dollar amount."
   ]
  },
  {
   "cell_type": "code",
   "execution_count": 565,
   "metadata": {
    "scrolled": true
   },
   "outputs": [
    {
     "name": "stdout",
     "output_type": "stream",
     "text": [
      "A\n",
      "U\n",
      "D\n",
      "\t\n",
      "1\n",
      ".\n",
      "0\n",
      "3\n",
      "4\n",
      "5\n",
      "1\n",
      "5\n",
      "7\n",
      "\t\n",
      "A\n",
      "u\n",
      "s\n",
      "t\n",
      "r\n",
      "a\n",
      "l\n",
      "i\n",
      "a\n",
      "n\n",
      "D\n",
      "o\n",
      "l\n",
      "l\n",
      "a\n",
      "r\n",
      "\n",
      "\n",
      "C\n",
      "H\n",
      "F\n",
      "\t\n",
      "1\n",
      ".\n",
      "0\n",
      "2\n",
      "3\n",
      "7\n",
      "4\n",
      "1\n",
      "4\n",
      "\t\n",
      "S\n",
      "w\n",
      "i\n",
      "s\n",
      "s\n",
      "F\n",
      "r\n",
      "a\n",
      "n\n",
      "c\n",
      "\n",
      "\n",
      "C\n",
      "N\n",
      "Y\n",
      "\t\n",
      "0\n",
      ".\n",
      "1\n",
      "5\n",
      "5\n",
      "0\n",
      "1\n",
      "7\n",
      "6\n",
      "\t\n",
      "C\n",
      "h\n",
      "i\n",
      "n\n",
      "e\n",
      "s\n",
      "e\n",
      "Y\n",
      "u\n",
      "a\n",
      "n\n",
      "\n",
      "\n",
      "D\n",
      "K\n",
      "K\n",
      "\t\n",
      "0\n",
      ".\n",
      "1\n",
      "6\n",
      "5\n",
      "1\n",
      "4\n",
      "4\n",
      "2\n",
      "\t\n",
      "D\n",
      "a\n",
      "n\n",
      "i\n",
      "s\n",
      "h\n",
      "K\n",
      "r\n",
      "o\n",
      "n\n",
      "e\n",
      "\n",
      "\n",
      "E\n",
      "U\n",
      "R\n",
      "\t\n",
      "1\n",
      ".\n",
      "2\n",
      "2\n",
      "9\n",
      "6\n",
      "5\n",
      "4\n",
      "4\n",
      "\t\n",
      "E\n",
      "u\n",
      "r\n",
      "o\n",
      "n\n",
      "v\n",
      "e\n",
      "r\n",
      "t\n",
      "s\n",
      "\n",
      "\n",
      "G\n",
      "B\n",
      "P\n",
      "\t\n",
      "1\n",
      ".\n",
      "5\n",
      "5\n",
      "5\n",
      "0\n",
      "9\n",
      "8\n",
      "9\n",
      "\t\n",
      "B\n",
      "r\n",
      "i\n",
      "t\n",
      "i\n",
      "s\n",
      "h\n",
      "P\n",
      "o\n",
      "u\n",
      "n\n",
      "d\n",
      "\n",
      "\n",
      "H\n",
      "K\n",
      "D\n",
      "\t\n",
      "0\n",
      ".\n",
      "1\n",
      "2\n",
      "7\n",
      "0\n",
      "2\n",
      "0\n",
      "7\n",
      "\t\n",
      "H\n",
      "o\n",
      "n\n",
      "g\n",
      "K\n",
      "o\n",
      "n\n",
      "g\n",
      "D\n",
      "o\n",
      "l\n",
      "l\n",
      "a\n",
      "r\n",
      "\n",
      "\n",
      "I\n",
      "N\n",
      "R\n",
      "\t\n",
      "0\n",
      ".\n",
      "0\n",
      "1\n",
      "7\n",
      "7\n",
      "6\n",
      "4\n",
      "3\n",
      "\t\n",
      "I\n",
      "n\n",
      "d\n",
      "i\n",
      "a\n",
      "n\n",
      "R\n",
      "u\n",
      "p\n",
      "e\n",
      "e\n",
      "\n",
      "\n",
      "J\n",
      "P\n",
      "Y\n",
      "\t\n",
      "0\n",
      ".\n",
      "0\n",
      "1\n",
      "2\n",
      "4\n",
      "1\n",
      "4\n",
      "0\n",
      "1\n",
      "\t\n",
      "J\n",
      "a\n",
      "p\n",
      "a\n",
      "n\n",
      "e\n",
      "s\n",
      "e\n",
      "Y\n",
      "e\n",
      "n\n",
      "\n",
      "\n",
      "M\n",
      "X\n",
      "N\n",
      "\t\n",
      "0\n",
      ".\n",
      "0\n",
      "7\n",
      "5\n",
      "1\n",
      "8\n",
      "4\n",
      "8\n",
      "\t\n",
      "M\n",
      "e\n",
      "x\n",
      "i\n",
      "c\n",
      "a\n",
      "n\n",
      "P\n",
      "e\n",
      "s\n",
      "o\n",
      "\n",
      "\n",
      "M\n",
      "Y\n",
      "R\n",
      "\t\n",
      "0\n",
      ".\n",
      "3\n",
      "1\n",
      "4\n",
      "5\n",
      "4\n",
      "1\n",
      "1\n",
      "\t\n",
      "M\n",
      "a\n",
      "l\n",
      "a\n",
      "y\n",
      "s\n",
      "i\n",
      "a\n",
      "n\n",
      "R\n",
      "i\n",
      "n\n",
      "g\n",
      "g\n",
      "i\n",
      "t\n",
      "\n",
      "\n",
      "N\n",
      "O\n",
      "K\n",
      "\t\n",
      "0\n",
      ".\n",
      "1\n",
      "6\n",
      "7\n",
      "7\n",
      "0\n",
      "6\n",
      "3\n",
      "\t\n",
      "N\n",
      "o\n",
      "r\n",
      "w\n",
      "e\n",
      "g\n",
      "i\n",
      "a\n",
      "n\n",
      "K\n",
      "r\n",
      "o\n",
      "n\n",
      "e\n",
      "\n",
      "\n",
      "N\n",
      "Z\n",
      "D\n",
      "\t\n",
      "0\n",
      ".\n",
      "8\n",
      "0\n",
      "0\n",
      "3\n",
      "5\n",
      "9\n",
      "1\n",
      "\t\n",
      "N\n",
      "e\n",
      "w\n",
      "Z\n",
      "e\n",
      "a\n",
      "l\n",
      "a\n",
      "n\n",
      "d\n",
      "D\n",
      "o\n",
      "l\n",
      "l\n",
      "a\n",
      "r\n",
      "\n",
      "\n",
      "P\n",
      "H\n",
      "P\n",
      "\t\n",
      "0\n",
      ".\n",
      "0\n",
      "2\n",
      "3\n",
      "3\n",
      "2\n",
      "3\n",
      "4\n",
      "\t\n",
      "P\n",
      "h\n",
      "i\n",
      "l\n",
      "i\n",
      "p\n",
      "p\n",
      "i\n",
      "n\n",
      "e\n",
      "P\n",
      "e\n",
      "s\n",
      "o\n",
      "\n",
      "\n",
      "S\n",
      "E\n",
      "K\n",
      "\t\n",
      "0\n",
      ".\n",
      "1\n",
      "4\n",
      "8\n",
      "2\n",
      "6\n",
      "9\n",
      "\t\n",
      "S\n",
      "w\n",
      "e\n",
      "d\n",
      "i\n",
      "s\n",
      "h\n",
      "K\n",
      "r\n",
      "o\n",
      "n\n",
      "a\n",
      "\n",
      "\n",
      "S\n",
      "G\n",
      "D\n",
      "\t\n",
      "0\n",
      ".\n",
      "7\n",
      "8\n",
      "8\n",
      "8\n",
      "7\n",
      "1\n",
      "\t\n",
      "S\n",
      "i\n",
      "n\n",
      "g\n",
      "a\n",
      "p\n",
      "o\n",
      "r\n",
      "e\n",
      "D\n",
      "o\n",
      "l\n",
      "l\n",
      "a\n",
      "r\n",
      "\n",
      "\n",
      "T\n",
      "H\n",
      "B\n",
      "\t\n",
      "0\n",
      ".\n",
      "0\n",
      "3\n",
      "1\n",
      "3\n",
      "7\n",
      "8\n",
      "9\n",
      "\t\n",
      "T\n",
      "h\n",
      "a\n",
      "i\n",
      "B\n",
      "a\n",
      "h\n",
      "t\n",
      "\n",
      "\n"
     ]
    }
   ],
   "source": [
    "#opens and reads file currencies.txt\n",
    "\n",
    "file2 = open('currencies.txt','r')\n",
    "text = file2.readlines()\n",
    "file2.close()\n",
    "\n",
    "\n",
    "\n",
    "for lines in text:\n",
    "    for words in lines:\n",
    "        lines.split()\n",
    "        print(words, end = ('\\n'))\n",
    "\n",
    "\n",
    "\n",
    "    "
   ]
  },
  {
   "cell_type": "code",
   "execution_count": 321,
   "metadata": {},
   "outputs": [
    {
     "ename": "IndentationError",
     "evalue": "expected an indented block (<ipython-input-321-35bb15ec2f85>, line 8)",
     "output_type": "error",
     "traceback": [
      "\u001b[1;36m  File \u001b[1;32m\"<ipython-input-321-35bb15ec2f85>\"\u001b[1;36m, line \u001b[1;32m8\u001b[0m\n\u001b[1;33m    rates = []\u001b[0m\n\u001b[1;37m    ^\u001b[0m\n\u001b[1;31mIndentationError\u001b[0m\u001b[1;31m:\u001b[0m expected an indented block\n"
     ]
    }
   ],
   "source": []
  },
  {
   "cell_type": "markdown",
   "metadata": {},
   "source": [
    "### Question 7"
   ]
  },
  {
   "cell_type": "code",
   "execution_count": 455,
   "metadata": {},
   "outputs": [
    {
     "ename": "TypeError",
     "evalue": "unsupported operand type(s) for +: 'int' and 'str'",
     "output_type": "error",
     "traceback": [
      "\u001b[1;31m---------------------------------------------------------------------------\u001b[0m",
      "\u001b[1;31mTypeError\u001b[0m                                 Traceback (most recent call last)",
      "\u001b[1;32m<ipython-input-455-63a7ed804344>\u001b[0m in \u001b[0;36m<module>\u001b[1;34m\u001b[0m\n\u001b[1;32m----> 1\u001b[1;33m \u001b[1;36m6\u001b[0m \u001b[1;33m+\u001b[0m \u001b[1;34m'a'\u001b[0m\u001b[1;33m\u001b[0m\u001b[1;33m\u001b[0m\u001b[0m\n\u001b[0m",
      "\u001b[1;31mTypeError\u001b[0m: unsupported operand type(s) for +: 'int' and 'str'"
     ]
    }
   ],
   "source": [
    "6 + 'a'"
   ]
  },
  {
   "cell_type": "code",
   "execution_count": 457,
   "metadata": {},
   "outputs": [
    {
     "ename": "IndexError",
     "evalue": "list index out of range",
     "output_type": "error",
     "traceback": [
      "\u001b[1;31m---------------------------------------------------------------------------\u001b[0m",
      "\u001b[1;31mIndexError\u001b[0m                                Traceback (most recent call last)",
      "\u001b[1;32m<ipython-input-457-ec691a134f86>\u001b[0m in \u001b[0;36m<module>\u001b[1;34m\u001b[0m\n\u001b[0;32m      1\u001b[0m \u001b[0mlist\u001b[0m \u001b[1;33m=\u001b[0m \u001b[1;33m[\u001b[0m\u001b[1;36m1\u001b[0m\u001b[1;33m,\u001b[0m \u001b[1;36m2\u001b[0m\u001b[1;33m,\u001b[0m \u001b[1;36m3\u001b[0m\u001b[1;33m,\u001b[0m \u001b[1;36m4\u001b[0m\u001b[1;33m,\u001b[0m \u001b[1;36m5\u001b[0m\u001b[1;33m,\u001b[0m \u001b[1;36m6\u001b[0m\u001b[1;33m,\u001b[0m \u001b[1;36m7\u001b[0m\u001b[1;33m,\u001b[0m \u001b[1;36m8\u001b[0m\u001b[1;33m,\u001b[0m \u001b[1;36m9\u001b[0m\u001b[1;33m,\u001b[0m \u001b[1;36m10\u001b[0m\u001b[1;33m]\u001b[0m\u001b[1;33m\u001b[0m\u001b[1;33m\u001b[0m\u001b[0m\n\u001b[0;32m      2\u001b[0m \u001b[1;33m\u001b[0m\u001b[0m\n\u001b[1;32m----> 3\u001b[1;33m \u001b[0mprint\u001b[0m\u001b[1;33m(\u001b[0m\u001b[0mlist\u001b[0m\u001b[1;33m[\u001b[0m\u001b[1;36m12\u001b[0m\u001b[1;33m]\u001b[0m\u001b[1;33m)\u001b[0m\u001b[1;33m\u001b[0m\u001b[1;33m\u001b[0m\u001b[0m\n\u001b[0m",
      "\u001b[1;31mIndexError\u001b[0m: list index out of range"
     ]
    }
   ],
   "source": [
    "list = [1, 2, 3, 4, 5, 6, 7, 8, 9, 10]\n",
    "\n",
    "print(list[12])\n"
   ]
  },
  {
   "cell_type": "code",
   "execution_count": 459,
   "metadata": {},
   "outputs": [
    {
     "ename": "ValueError",
     "evalue": "math domain error",
     "output_type": "error",
     "traceback": [
      "\u001b[1;31m---------------------------------------------------------------------------\u001b[0m",
      "\u001b[1;31mValueError\u001b[0m                                Traceback (most recent call last)",
      "\u001b[1;32m<ipython-input-459-2b0f8ef8d2f7>\u001b[0m in \u001b[0;36m<module>\u001b[1;34m\u001b[0m\n\u001b[0;32m      1\u001b[0m \u001b[1;32mimport\u001b[0m \u001b[0mmath\u001b[0m\u001b[1;33m\u001b[0m\u001b[1;33m\u001b[0m\u001b[0m\n\u001b[1;32m----> 2\u001b[1;33m \u001b[0mmath\u001b[0m\u001b[1;33m.\u001b[0m\u001b[0msqrt\u001b[0m\u001b[1;33m(\u001b[0m\u001b[1;33m-\u001b[0m\u001b[1;36m7\u001b[0m\u001b[1;33m)\u001b[0m\u001b[1;33m\u001b[0m\u001b[1;33m\u001b[0m\u001b[0m\n\u001b[0m",
      "\u001b[1;31mValueError\u001b[0m: math domain error"
     ]
    }
   ],
   "source": [
    "import math\n",
    "math.sqrt(-7)\n"
   ]
  },
  {
   "cell_type": "code",
   "execution_count": 462,
   "metadata": {},
   "outputs": [
    {
     "ename": "NameError",
     "evalue": "name 'a' is not defined",
     "output_type": "error",
     "traceback": [
      "\u001b[1;31m---------------------------------------------------------------------------\u001b[0m",
      "\u001b[1;31mNameError\u001b[0m                                 Traceback (most recent call last)",
      "\u001b[1;32m<ipython-input-462-855f17310187>\u001b[0m in \u001b[0;36m<module>\u001b[1;34m\u001b[0m\n\u001b[0;32m      1\u001b[0m \u001b[0mxyz\u001b[0m \u001b[1;33m=\u001b[0m \u001b[1;33m[\u001b[0m\u001b[1;36m1\u001b[0m\u001b[1;33m,\u001b[0m \u001b[1;36m2\u001b[0m\u001b[1;33m,\u001b[0m \u001b[1;36m3\u001b[0m\u001b[1;33m]\u001b[0m\u001b[1;33m\u001b[0m\u001b[1;33m\u001b[0m\u001b[0m\n\u001b[0;32m      2\u001b[0m \u001b[1;33m\u001b[0m\u001b[0m\n\u001b[1;32m----> 3\u001b[1;33m \u001b[0mprint\u001b[0m\u001b[1;33m(\u001b[0m\u001b[0ma\u001b[0m\u001b[1;33m)\u001b[0m\u001b[1;33m\u001b[0m\u001b[1;33m\u001b[0m\u001b[0m\n\u001b[0m",
      "\u001b[1;31mNameError\u001b[0m: name 'a' is not defined"
     ]
    }
   ],
   "source": [
    "xyz = [1, 2, 3]\n",
    "\n",
    "print(a)"
   ]
  },
  {
   "cell_type": "code",
   "execution_count": 471,
   "metadata": {},
   "outputs": [
    {
     "ename": "FileNotFoundError",
     "evalue": "[Errno 2] No such file or directory: 'bloodtype.txt'",
     "output_type": "error",
     "traceback": [
      "\u001b[1;31m---------------------------------------------------------------------------\u001b[0m",
      "\u001b[1;31mFileNotFoundError\u001b[0m                         Traceback (most recent call last)",
      "\u001b[1;32m<ipython-input-471-bea27532ccab>\u001b[0m in \u001b[0;36m<module>\u001b[1;34m\u001b[0m\n\u001b[1;32m----> 1\u001b[1;33m \u001b[0mfile\u001b[0m \u001b[1;33m=\u001b[0m \u001b[0mopen\u001b[0m\u001b[1;33m(\u001b[0m\u001b[1;34m'bloodtype.txt'\u001b[0m\u001b[1;33m,\u001b[0m\u001b[1;34m'r'\u001b[0m\u001b[1;33m)\u001b[0m\u001b[1;33m\u001b[0m\u001b[1;33m\u001b[0m\u001b[0m\n\u001b[0m\u001b[0;32m      2\u001b[0m \u001b[0mdata\u001b[0m \u001b[1;33m=\u001b[0m \u001b[0mfile\u001b[0m\u001b[1;33m.\u001b[0m\u001b[0mread\u001b[0m\u001b[1;33m(\u001b[0m\u001b[1;33m)\u001b[0m\u001b[1;33m\u001b[0m\u001b[1;33m\u001b[0m\u001b[0m\n\u001b[0;32m      3\u001b[0m \u001b[0mfile\u001b[0m\u001b[1;33m.\u001b[0m\u001b[0mclose\u001b[0m\u001b[1;33m(\u001b[0m\u001b[1;33m)\u001b[0m\u001b[1;33m\u001b[0m\u001b[1;33m\u001b[0m\u001b[0m\n\u001b[0;32m      4\u001b[0m \u001b[1;33m\u001b[0m\u001b[0m\n",
      "\u001b[1;31mFileNotFoundError\u001b[0m: [Errno 2] No such file or directory: 'bloodtype.txt'"
     ]
    }
   ],
   "source": [
    "file = open('bloodtype.txt','r')\n",
    "data = file.read()\n",
    "file.close()\n",
    "\n"
   ]
  },
  {
   "cell_type": "markdown",
   "metadata": {},
   "source": [
    "### Question 8"
   ]
  },
  {
   "cell_type": "code",
   "execution_count": null,
   "metadata": {},
   "outputs": [],
   "source": []
  },
  {
   "cell_type": "markdown",
   "metadata": {},
   "source": [
    "### Question 9"
   ]
  },
  {
   "cell_type": "code",
   "execution_count": null,
   "metadata": {},
   "outputs": [],
   "source": [
    "def divisors(n):\n",
    "    'return the list of divisors of n'\n",
    "\n",
    "    res = []    # accumulator initialized to an empty list\n",
    "\n",
    "    for i in range(1, n+1):\n",
    "        if n % i == 0:    # if i is a divisor of n\n",
    "            res.append(i) # accumulate i\n",
    "\n",
    "    return res\n"
   ]
  },
  {
   "cell_type": "markdown",
   "metadata": {},
   "source": [
    "### Question 10\n",
    "\n",
    "Implement function \"triangleArea(a,b,c)\" that takes as input of the 3 sides of a triangle and returns the area of the triangle."
   ]
  },
  {
   "cell_type": "code",
   "execution_count": 312,
   "metadata": {},
   "outputs": [
    {
     "data": {
      "text/plain": [
       "1.7320508075688772"
      ]
     },
     "execution_count": 312,
     "metadata": {},
     "output_type": "execute_result"
    }
   ],
   "source": [
    "import math #import math capability\n",
    "\n",
    "\n",
    "#define function for equation\n",
    "\n",
    "def triangleArea(a,b,c):\n",
    "    res = (math.sqrt(s*((s-a)*(s-b)*(s-c))))\n",
    "    return res\n",
    "\n",
    "#input variables into equation to verify function works\n",
    "triangleArea(2,2,2)"
   ]
  },
  {
   "cell_type": "code",
   "execution_count": null,
   "metadata": {},
   "outputs": [],
   "source": []
  }
 ],
 "metadata": {
  "kernelspec": {
   "display_name": "Python 3",
   "language": "python",
   "name": "python3"
  },
  "language_info": {
   "codemirror_mode": {
    "name": "ipython",
    "version": 3
   },
   "file_extension": ".py",
   "mimetype": "text/x-python",
   "name": "python",
   "nbconvert_exporter": "python",
   "pygments_lexer": "ipython3",
   "version": "3.8.3"
  }
 },
 "nbformat": 4,
 "nbformat_minor": 4
}
